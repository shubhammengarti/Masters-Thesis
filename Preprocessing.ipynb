{
 "cells": [
  {
   "cell_type": "code",
   "execution_count": 1,
   "metadata": {},
   "outputs": [],
   "source": [
    "from pyspark.sql.session import SparkSession\n",
    "import config as c\n",
    "import pyspark.sql.functions as fn\n",
    "from pyspark.sql import Window"
   ]
  },
  {
   "cell_type": "code",
   "execution_count": 2,
   "metadata": {},
   "outputs": [],
   "source": [
    "spark = SparkSession.builder.master(\"local[*]\").getOrCreate()"
   ]
  },
  {
   "cell_type": "code",
   "execution_count": 3,
   "metadata": {},
   "outputs": [],
   "source": [
    "temperatureDF = spark.read.csv(c.staging+\"/temperature\",header=True,inferSchema=True)"
   ]
  },
  {
   "cell_type": "code",
   "execution_count": 4,
   "metadata": {},
   "outputs": [],
   "source": [
    "temperatureDF_with_year = temperatureDF.withColumn(\"year\",fn.substring(\"dt\", 0, 4))"
   ]
  },
  {
   "cell_type": "code",
   "execution_count": 5,
   "metadata": {},
   "outputs": [],
   "source": [
    "temperatureDF_final = temperatureDF_with_year.groupBy(\"country\",\"year\")\\\n",
    "                                        .agg(fn.avg(\"AverageTemperature\").alias(\"temperature\"))"
   ]
  },
  {
   "cell_type": "code",
   "execution_count": 6,
   "metadata": {},
   "outputs": [],
   "source": [
    "w = Window.partitionBy(\"country\")"
   ]
  },
  {
   "cell_type": "code",
   "execution_count": 7,
   "metadata": {},
   "outputs": [],
   "source": [
    "temperatureDF_final = temperatureDF_final.withColumn(\"temperature\",\n",
    "                            fn.when(fn.col(\"temperature\").isNull(),fn.avg(\"temperature\").over(w))\n",
    "                            .otherwise(fn.col(\"temperature\")))"
   ]
  },
  {
   "cell_type": "code",
   "execution_count": 8,
   "metadata": {},
   "outputs": [],
   "source": [
    "carbonPerCountry = spark.read.csv(c.staging+\"/carbonPerCountry\", header=True, inferSchema=True)"
   ]
  },
  {
   "cell_type": "code",
   "execution_count": 9,
   "metadata": {},
   "outputs": [],
   "source": [
    "carbonPerCountry = carbonPerCountry.withColumn(\"annual_co2_emission_tonnes\",\n",
    "                            fn.when(fn.col(\"annual_co2_emission_tonnes\").isNull(),\n",
    "                                    fn.avg(\"annual_co2_emission_tonnes\").over(w))\n",
    "                            .otherwise(fn.col(\"annual_co2_emission_tonnes\")))"
   ]
  },
  {
   "cell_type": "code",
   "execution_count": 10,
   "metadata": {},
   "outputs": [],
   "source": [
    "carbonPerEconomy = spark.read.csv(c.staging+\"/carbonPerEconomy\",header=True,inferSchema=True)"
   ]
  },
  {
   "cell_type": "code",
   "execution_count": 11,
   "metadata": {},
   "outputs": [],
   "source": [
    "carbonPerEconomy = carbonPerEconomy.withColumn(\"annual_co2_emission_gdp\",\n",
    "                            fn.when(fn.col(\"annual_co2_emission_gdp\").isNull(),\n",
    "                                    fn.avg(\"annual_co2_emission_gdp\").over(w))\n",
    "                            .otherwise(fn.col(\"annual_co2_emission_gdp\")))"
   ]
  },
  {
   "cell_type": "code",
   "execution_count": 12,
   "metadata": {},
   "outputs": [],
   "source": [
    "carbonPerCapita = spark.read.csv(c.staging+\"/carbonPerCapita\",header=True,inferSchema=True)"
   ]
  },
  {
   "cell_type": "code",
   "execution_count": 13,
   "metadata": {},
   "outputs": [],
   "source": [
    "carbonPerCapita = carbonPerCapita.withColumn(\"annual_co2_emission_capita\",\n",
    "                            fn.when(fn.col(\"annual_co2_emission_capita\").isNull(),\n",
    "                                    fn.avg(\"annual_co2_emission_capita\").over(w))\n",
    "                            .otherwise(fn.col(\"annual_co2_emission_capita\")))"
   ]
  },
  {
   "cell_type": "code",
   "execution_count": 14,
   "metadata": {},
   "outputs": [],
   "source": [
    "carbonAnnualShare = spark.read.csv(c.staging+\"/carbonAnnualShare\",header=True,inferSchema=True)"
   ]
  },
  {
   "cell_type": "code",
   "execution_count": 15,
   "metadata": {},
   "outputs": [],
   "source": [
    "carbonAnnualShare = carbonAnnualShare.withColumn(\"annual_co2_share\",\n",
    "                            fn.when(fn.col(\"annual_co2_share\").isNull(),\n",
    "                                    fn.avg(\"annual_co2_share\").over(w))\n",
    "                            .otherwise(fn.col(\"annual_co2_share\")))"
   ]
  },
  {
   "cell_type": "code",
   "execution_count": 16,
   "metadata": {},
   "outputs": [],
   "source": [
    "gasPerSector = spark.read.csv(c.staging+\"/gasPerSector\",header=True,inferSchema=True)"
   ]
  },
  {
   "cell_type": "code",
   "execution_count": 17,
   "metadata": {},
   "outputs": [],
   "source": [
    "gasPerSector = gasPerSector.withColumn(\"source_others\",\n",
    "                            fn.when(fn.col(\"source_others\").isNull(),\n",
    "                                    fn.avg(\"source_others\").over(w))\n",
    "                            .otherwise(fn.col(\"source_others\"))) \\\n",
    "                    .withColumn(\"source_bunkers\",\n",
    "                            fn.when(fn.col(\"source_bunkers\").isNull(),\n",
    "                                    fn.avg(\"source_bunkers\").over(w))\n",
    "                            .otherwise(fn.col(\"source_bunkers\"))) \\\n",
    "                    .withColumn(\"source_waste\",\n",
    "                            fn.when(fn.col(\"source_waste\").isNull(),\n",
    "                                    fn.avg(\"source_waste\").over(w))\n",
    "                            .otherwise(fn.col(\"source_waste\"))) \\\n",
    "                    .withColumn(\"source_industry\",\n",
    "                            fn.when(fn.col(\"source_industry\").isNull(),\n",
    "                                    fn.avg(\"source_industry\").over(w))\n",
    "                            .otherwise(fn.col(\"source_industry\"))) \\\n",
    "                    .withColumn(\"source_res_com\",\n",
    "                            fn.when(fn.col(\"source_res_com\").isNull(),\n",
    "                                    fn.avg(\"source_res_com\").over(w))\n",
    "                            .otherwise(fn.col(\"source_res_com\"))) \\\n",
    "                    .withColumn(\"source_transport\",\n",
    "                            fn.when(fn.col(\"source_transport\").isNull(),\n",
    "                                    fn.avg(\"source_transport\").over(w))\n",
    "                            .otherwise(fn.col(\"source_transport\"))) \\\n",
    "                    .withColumn(\"source_agriculture\",\n",
    "                            fn.when(fn.col(\"source_agriculture\").isNull(),\n",
    "                                    fn.avg(\"source_agriculture\").over(w))\n",
    "                            .otherwise(fn.col(\"source_agriculture\"))) \\\n",
    "                    .withColumn(\"source_forestry\",\n",
    "                            fn.when(fn.col(\"source_forestry\").isNull(),\n",
    "                                    fn.avg(\"source_forestry\").over(w))\n",
    "                            .otherwise(fn.col(\"source_forestry\"))) \\\n",
    "                    .withColumn(\"source_land\",\n",
    "                            fn.when(fn.col(\"source_land\").isNull(),\n",
    "                                    fn.avg(\"source_land\").over(w))\n",
    "                            .otherwise(fn.col(\"source_land\"))) \\\n",
    "                    .withColumn(\"source_energy\",\n",
    "                            fn.when(fn.col(\"source_energy\").isNull(),\n",
    "                                    fn.avg(\"source_energy\").over(w))\n",
    "                            .otherwise(fn.col(\"source_energy\"))) "
   ]
  },
  {
   "cell_type": "code",
   "execution_count": 18,
   "metadata": {},
   "outputs": [],
   "source": [
    "join_list = [\"country\",\"year\"]"
   ]
  },
  {
   "cell_type": "code",
   "execution_count": 19,
   "metadata": {},
   "outputs": [],
   "source": [
    "gasDF = carbonPerCountry.join(carbonPerEconomy,join_list)\\\n",
    "                        .join(carbonPerCapita,join_list)\\\n",
    "                        .join(carbonAnnualShare,join_list)\\\n",
    "                        .join(gasPerSector,join_list)"
   ]
  },
  {
   "cell_type": "code",
   "execution_count": 20,
   "metadata": {},
   "outputs": [],
   "source": [
    "data_final = temperatureDF_final.join(gasDF,join_list)"
   ]
  },
  {
   "cell_type": "code",
   "execution_count": 21,
   "metadata": {},
   "outputs": [],
   "source": [
    "data_final.write.mode(\"overwrite\").csv(c.input+\"/dataset\",header=True,sep=\",\")"
   ]
  }
 ],
 "metadata": {
  "kernelspec": {
   "display_name": "Python 3",
   "language": "python",
   "name": "python3"
  },
  "language_info": {
   "codemirror_mode": {
    "name": "ipython",
    "version": 3
   },
   "file_extension": ".py",
   "mimetype": "text/x-python",
   "name": "python",
   "nbconvert_exporter": "python",
   "pygments_lexer": "ipython3",
   "version": "3.7.3"
  }
 },
 "nbformat": 4,
 "nbformat_minor": 2
}

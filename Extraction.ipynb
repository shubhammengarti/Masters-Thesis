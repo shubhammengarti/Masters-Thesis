{
 "cells": [
  {
   "cell_type": "code",
   "execution_count": 1,
   "metadata": {},
   "outputs": [],
   "source": [
    "from pyspark.sql.session import SparkSession\n",
    "import config as c\n",
    "import pyspark.sql.functions as fn\n",
    "from pyspark.sql import window"
   ]
  },
  {
   "cell_type": "code",
   "execution_count": 2,
   "metadata": {},
   "outputs": [],
   "source": [
    "#Getting spark session\n",
    "spark = SparkSession.builder.master(\"local[*]\").getOrCreate()"
   ]
  },
  {
   "cell_type": "code",
   "execution_count": 3,
   "metadata": {},
   "outputs": [],
   "source": [
    "#Getting temperature dataset\n",
    "temperatureDF = spark.read.option(\"inferSchema\",\"true\")\\\n",
    "                        .option(\"header\",\"true\")\\\n",
    "                        .csv(c.download+\"/GlobalLandTemperaturesByCountry.csv\")"
   ]
  },
  {
   "cell_type": "code",
   "execution_count": 4,
   "metadata": {},
   "outputs": [],
   "source": [
    "#Getting carbon per country dataset\n",
    "carbonPerCountry = spark.read.option(\"inferSchema\",\"true\")\\\n",
    "                        .option(\"header\",\"true\")\\\n",
    "                        .csv(c.download+\"/annual-co2-emissions-per-country.csv\")"
   ]
  },
  {
   "cell_type": "code",
   "execution_count": 5,
   "metadata": {},
   "outputs": [],
   "source": [
    "#Transforming carbon per country dataset columns\n",
    "carbonPerCountry = carbonPerCountry.withColumnRenamed(\"Annual CO₂ emissions (tonnes)\",\"annual_co2_emission_tonnes\")\\\n",
    "                                    .withColumnRenamed(\"Entity\",\"Country\") \\\n",
    "                                    .select('Country','Year','annual_co2_emission_tonnes')"
   ]
  },
  {
   "cell_type": "code",
   "execution_count": 6,
   "metadata": {},
   "outputs": [],
   "source": [
    "carbonPerEconomy =  spark.read.option(\"inferSchema\",\"true\")\\\n",
    "                        .option(\"header\",\"true\")\\\n",
    "                        .csv(c.download+\"/carbon-emission-intensity-of-economies.csv\")"
   ]
  },
  {
   "cell_type": "code",
   "execution_count": 7,
   "metadata": {},
   "outputs": [],
   "source": [
    "carbonPerEconomy = carbonPerEconomy.withColumnRenamed(\"CO2 emissions (kg per 2011 PPP $ of GDP) (kg per 2011 PPP $ of GDP)\",\"annual_co2_emission_gdp\")\\\n",
    "                                    .withColumnRenamed(\"Entity\",\"Country\") \\\n",
    "                                    .select('Country','Year','annual_co2_emission_gdp')"
   ]
  },
  {
   "cell_type": "code",
   "execution_count": 8,
   "metadata": {},
   "outputs": [],
   "source": [
    "gasPerSector = spark.read.option(\"inferSchema\",\"true\")\\\n",
    "                        .option(\"header\",\"true\")\\\n",
    "                        .csv(c.download+\"/greenhouse-gas-emissions-by-sector.csv\")"
   ]
  },
  {
   "cell_type": "code",
   "execution_count": 9,
   "metadata": {},
   "outputs": [],
   "source": [
    "gasPerSector = gasPerSector.withColumnRenamed(\"Entity\",\"Country\")\\\n",
    "                            .withColumnRenamed(\"Other sources (tonnes)\",\"source_others\")\\\n",
    "                            .withColumnRenamed(\"International bunkers (tonnes)\",\"source_bunkers\")\\\n",
    "                            .withColumnRenamed(\"Waste (tonnes)\",\"source_waste\")\\\n",
    "                            .withColumnRenamed(\"Industry (tonnes)\",\"source_industry\")\\\n",
    "                            .withColumnRenamed(\"Residential & commercial (tonnes)\",\"source_res_com\")\\\n",
    "                            .withColumnRenamed(\"Transport (tonnes)\",\"source_transport\")\\\n",
    "                            .withColumnRenamed(\"Agriculture (tonnes)\",\"source_agriculture\")\\\n",
    "                            .withColumnRenamed(\"Forestry (tonnes)\",\"source_forestry\")\\\n",
    "                            .withColumnRenamed(\"Land use sources (tonnes)\",\"source_land\")\\\n",
    "                            .withColumnRenamed(\"Energy (tonnes)\",\"source_energy\")\\\n",
    "                            .drop(\"code\")"
   ]
  },
  {
   "cell_type": "code",
   "execution_count": 10,
   "metadata": {},
   "outputs": [],
   "source": [
    "carbonPerCapita = spark.read.option(\"inferSchema\",\"true\")\\\n",
    "                        .option(\"header\",\"true\")\\\n",
    "                        .csv(c.download+\"/co-emissions-per-capita.csv\")"
   ]
  },
  {
   "cell_type": "code",
   "execution_count": 11,
   "metadata": {},
   "outputs": [],
   "source": [
    "carbonPerCapita = carbonPerCapita.withColumnRenamed(\"Entity\",\"Country\")\\\n",
    "                                .withColumnRenamed(\"Per capita CO₂ emissions (tonnes per capita)\",\"annual_co2_emission_capita\")\\\n",
    "                                .drop('code')"
   ]
  },
  {
   "cell_type": "code",
   "execution_count": 12,
   "metadata": {},
   "outputs": [],
   "source": [
    "carbonAnnualShare = spark.read.option(\"inferSchema\",\"true\")\\\n",
    "                        .option(\"header\",\"true\")\\\n",
    "                        .csv(c.download+\"/annual-share-of-co2-emissions.csv\")"
   ]
  },
  {
   "cell_type": "code",
   "execution_count": 13,
   "metadata": {},
   "outputs": [],
   "source": [
    "carbonAnnualShare = carbonAnnualShare.withColumnRenamed(\"Entity\",\"Country\")\\\n",
    "                                    .withColumnRenamed(\"Share of global CO₂ emissions (%)\",\"annual_co2_share\")\\\n",
    "                                    .drop('code')"
   ]
  },
  {
   "cell_type": "code",
   "execution_count": 14,
   "metadata": {},
   "outputs": [],
   "source": [
    "temperatureDF.write.csv(c.staging+\"/temperature\",\"overwrite\",header=True,sep=\",\")\n",
    "carbonPerCountry.write.csv(c.staging+\"/carbonPerCountry\",\"overwrite\",header=True,sep=\",\")\n",
    "carbonPerEconomy.write.csv(c.staging+\"/carbonPerEconomy\",\"overwrite\",header=True,sep=\",\")\n",
    "carbonPerCapita.write.csv(c.staging+\"/carbonPerCapita\",\"overwrite\",header=True,sep=\",\")\n",
    "carbonAnnualShare.write.csv(c.staging+\"/carbonAnnualShare\",\"overwrite\",header=True,sep=\",\")\n",
    "gasPerSector.write.csv(c.staging+\"/gasPerSector\",\"overwrite\",header=True,sep=\",\")"
   ]
  }
 ],
 "metadata": {
  "kernelspec": {
   "display_name": "Python 3",
   "language": "python",
   "name": "python3"
  },
  "language_info": {
   "codemirror_mode": {
    "name": "ipython",
    "version": 3
   },
   "file_extension": ".py",
   "mimetype": "text/x-python",
   "name": "python",
   "nbconvert_exporter": "python",
   "pygments_lexer": "ipython3",
   "version": "3.7.3"
  }
 },
 "nbformat": 4,
 "nbformat_minor": 2
}

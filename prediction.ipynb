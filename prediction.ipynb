{
 "cells": [
  {
   "cell_type": "code",
   "execution_count": 1,
   "metadata": {},
   "outputs": [],
   "source": [
    "from pyspark.sql.session import SparkSession\n",
    "import config as c\n",
    "import pyspark.sql.functions as fn\n",
    "from pyspark.ml.feature import VectorAssembler, Imputer\n",
    "from pyspark.ml.tuning import CrossValidatorModel\n",
    "from pyspark.ml.evaluation import RegressionEvaluator"
   ]
  },
  {
   "cell_type": "code",
   "execution_count": 2,
   "metadata": {},
   "outputs": [],
   "source": [
    "#Reading dataset\n",
    "dataset = spark.read.jdbc(\"jdbc:mysql://localhost:3306\",\"work.data\",\n",
    "            properties={\"user\":\"hduser\",\"password\":\"Password@1234\"})"
   ]
  },
  {
   "cell_type": "code",
   "execution_count": 3,
   "metadata": {},
   "outputs": [],
   "source": [
    "dataset = dataset.na.drop()"
   ]
  },
  {
   "cell_type": "code",
   "execution_count": 4,
   "metadata": {},
   "outputs": [],
   "source": [
    "#Getting feature columns\n",
    "nonFeatureCols = ['country','temperature','year']\n",
    "featureCols = [item for item in dataset.columns if item not in nonFeatureCols]"
   ]
  },
  {
   "cell_type": "code",
   "execution_count": 5,
   "metadata": {},
   "outputs": [],
   "source": [
    "#Getting assembler to generate feature column\n",
    "assembler = (VectorAssembler()\n",
    "           .setInputCols(featureCols)\n",
    "           .setOutputCol(\"features\"))"
   ]
  },
  {
   "cell_type": "code",
   "execution_count": 6,
   "metadata": {},
   "outputs": [
    {
     "name": "stdout",
     "output_type": "stream",
     "text": [
      "+------------+----+------------------+--------------------------+-----------------------+--------------------------+----------------+------------------+--------------------+------------------+--------------------+--------------------+------------------+-------------------+--------------------+--------------------+--------------------+\n",
      "|     country|year|       temperature|annual_co2_emission_tonnes|annual_co2_emission_gdp|annual_co2_emission_capita|annual_co2_share|     source_others|        source_waste|   source_industry|      source_res_com|    source_transport|source_agriculture|    source_forestry|         source_land|       source_energy|            features|\n",
      "+------------+----+------------------+--------------------------+-----------------------+--------------------------+----------------+------------------+--------------------+------------------+--------------------+--------------------+------------------+-------------------+--------------------+--------------------+--------------------+\n",
      "|   Argentina|1990|15.155083333333332|             1.118900178E8|      0.316805864837395|               3.418604036|          0.5044|         1160567.1|   7724634.600000001| 5177642.399999999|        2.26892094E7|2.8534276900000002E7|     1.063652132E8|       5.86666667E7|1.3180769020000002E8|        6.69861069E7|[1.118900178E8,0....|\n",
      "|   Argentina|1991|15.097583333333338|             1.168450033E8|      0.293592983478315|               3.520072662|          0.5209|         1153575.5|           7850924.9|         5406155.0|         2.2859211E7|        3.00563818E7|     1.050627565E8|       5.86666667E7|1.3227336679999998E8| 6.967611380000001E7|[1.168450033E8,0....|\n",
      "|     Austria|1999| 7.234249999999999|             6.562100496E7|      0.205518133595588|               8.150550733|          0.2742|          270698.6|           2959519.1| 7470638.600000001|         1.5067691E7|1.5992025799999999E7|         7741514.8|            -1.21E7|           2251451.7|          3.414045E7|[6.562100496E7,0....|\n",
      "|     Algeria|2002|24.263000000000005|             8.940672123E7|      0.259552745512947|               2.794392645|          0.3507|352842.10000000003|           4845611.2|         6755974.0|        1.48942577E7|              1.34E7|         7775194.1|           513333.3|  1261107.4000000001| 8.371579989999999E7|[8.940672123E7,0....|\n",
      "|     Algeria|2013|           25.1215|             1.324346303E8|      0.264630435017029|               3.454345269|          0.3762|318124.51904761913|   4627929.038095238| 6848293.742857144|1.5003715247619044E7|1.5864382276190476E7|       1.0864806E7|          -440000.0|   866026.3190476187| 8.509853251904762E7|[1.324346303E8,0....|\n",
      "|  Azerbaijan|1998|          12.95875|             3.166504151E7|       1.05313679428864|               3.963131661|           0.132|          116001.0|  1595958.5999999999|          474769.4|           6993658.3|           1660925.3|4121988.8000000003|-1150247.9000000001|  13633.699999999999|        2.32602294E7|[3.166504151E7,1....|\n",
      "|      Angola|2011|22.029666666666667|             3.014214446E7|      0.211932905494213|               1.244588375|          0.0877| 543808.8666666666|  1722091.6714285715| 349117.0666666667|  1685382.8190476191|   2108783.671428571|      3.12690464E7|       3.44666667E7|1.0752159924285714E8|2.0391997014285713E7|[3.014214446E7,0....|\n",
      "|     Bahamas|1990|25.992333333333335|                 1949248.0|      0.245563480036143|               7.604269396|          0.0088|33597.200000000004|            128869.3|          322327.7|           1338351.1|            430570.0|           24371.7|         -1451759.2|             85268.2|           1212751.0|[1949248.0,0.2455...|\n",
      "|  Bangladesh|1991|25.135166666666667|             1.590255919E7|      0.112629103759077|               0.146260782|          0.0709|          247282.1|1.2851524299999999E7|          678100.0|           7456143.8|           1857438.1|      5.93159712E7|           869000.0|        3.26943823E7|           8573268.4|[1.590255919E7,0....|\n",
      "|Burkina Faso|1992|            28.132|                  630208.0|     0.0775495484839507|               0.067785344|          0.0028|          130464.8|            929861.6|52245.600000000006|           1095994.5|  211256.30000000002|      1.07567415E7|       1.06333333E7|        1.17715728E7|            760917.1|[630208.0,0.07754...|\n",
      "+------------+----+------------------+--------------------------+-----------------------+--------------------------+----------------+------------------+--------------------+------------------+--------------------+--------------------+------------------+-------------------+--------------------+--------------------+--------------------+\n",
      "only showing top 10 rows\n",
      "\n"
     ]
    }
   ],
   "source": [
    "data_feat = assembler.transform(dataset)\n",
    "data_feat.show(10)"
   ]
  },
  {
   "cell_type": "code",
   "execution_count": 7,
   "metadata": {},
   "outputs": [],
   "source": [
    "model = CrossValidatorModel.load(c.output+\"/model\")"
   ]
  },
  {
   "cell_type": "code",
   "execution_count": 8,
   "metadata": {},
   "outputs": [],
   "source": [
    "predictions = model.transform(data_feat)"
   ]
  },
  {
   "cell_type": "code",
   "execution_count": 9,
   "metadata": {},
   "outputs": [],
   "source": [
    "predictions.drop('features').write.mode(\"overwrite\").jdbc(\"jdbc:mysql://localhost:3306\",\"work.predictions\",\n",
    "                    properties={\"user\":\"hduser\",\"password\":\"Password@1234\"})"
   ]
  },
  {
   "cell_type": "markdown",
   "metadata": {},
   "source": [
    "### Future Predictions"
   ]
  },
  {
   "cell_type": "code",
   "execution_count": 10,
   "metadata": {},
   "outputs": [],
   "source": [
    "#Reading dataset\n",
    "dataset_fut = spark.read.jdbc(\"jdbc:mysql://localhost:3306\",\"work.future_data\",\n",
    "            properties={\"user\":\"hduser\",\"password\":\"Password@1234\"})"
   ]
  },
  {
   "cell_type": "code",
   "execution_count": 11,
   "metadata": {},
   "outputs": [],
   "source": [
    "#Getting feature columns\n",
    "nonFeatureCols = ['country','year']\n",
    "featureCols = [item for item in dataset_fut.columns if item not in nonFeatureCols]"
   ]
  },
  {
   "cell_type": "code",
   "execution_count": 12,
   "metadata": {},
   "outputs": [],
   "source": [
    "#Getting assembler to generate feature column\n",
    "assembler = (VectorAssembler()\n",
    "           .setInputCols(featureCols)\n",
    "           .setOutputCol(\"features\"))"
   ]
  },
  {
   "cell_type": "code",
   "execution_count": 13,
   "metadata": {},
   "outputs": [],
   "source": [
    "data_feat1 = assembler.transform(dataset_fut)"
   ]
  },
  {
   "cell_type": "code",
   "execution_count": 14,
   "metadata": {},
   "outputs": [],
   "source": [
    "predictions1 = model.transform(data_feat1)"
   ]
  },
  {
   "cell_type": "code",
   "execution_count": 15,
   "metadata": {},
   "outputs": [],
   "source": [
    "predictions1.drop('features').write.mode(\"overwrite\").jdbc(\"jdbc:mysql://localhost:3306\",\"work.predictions_future\",\n",
    "                    properties={\"user\":\"hduser\",\"password\":\"Password@1234\"})"
   ]
  }
 ],
 "metadata": {
  "kernelspec": {
   "display_name": "Python 3",
   "language": "python",
   "name": "python3"
  },
  "language_info": {
   "codemirror_mode": {
    "name": "ipython",
    "version": 3
   },
   "file_extension": ".py",
   "mimetype": "text/x-python",
   "name": "python",
   "nbconvert_exporter": "python",
   "pygments_lexer": "ipython3",
   "version": "3.7.3"
  }
 },
 "nbformat": 4,
 "nbformat_minor": 2
}

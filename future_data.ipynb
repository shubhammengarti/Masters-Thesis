{
 "cells": [
  {
   "cell_type": "code",
   "execution_count": 1,
   "metadata": {},
   "outputs": [],
   "source": [
    "from pyspark.sql.session import SparkSession\n",
    "import pyspark.sql.functions as fn\n",
    "import config as c\n",
    "from pyspark.ml.feature import OneHotEncoder, StringIndexer, VectorAssembler\n",
    "from pyspark.ml.regression import LinearRegression "
   ]
  },
  {
   "cell_type": "code",
   "execution_count": 2,
   "metadata": {},
   "outputs": [],
   "source": [
    "dataset = spark.read.csv(c.input+\"/dataset\",header=True)"
   ]
  },
  {
   "cell_type": "code",
   "execution_count": 3,
   "metadata": {},
   "outputs": [],
   "source": [
    "dataset = dataset.drop(\"source_bunkers\")\\\n",
    "                .withColumn(\"year\",fn.col(\"year\").cast(\"Integer\"))                "
   ]
  },
  {
   "cell_type": "code",
   "execution_count": 4,
   "metadata": {},
   "outputs": [],
   "source": [
    "cols = dataset.drop('country', 'year', 'temperature').columns"
   ]
  },
  {
   "cell_type": "code",
   "execution_count": 5,
   "metadata": {},
   "outputs": [],
   "source": [
    "dataset = dataset.na.drop()"
   ]
  },
  {
   "cell_type": "code",
   "execution_count": 6,
   "metadata": {},
   "outputs": [],
   "source": [
    "stringIndexer = StringIndexer(inputCol=\"country\", outputCol=\"indexed_country\")\n",
    "indexedModel = stringIndexer.fit(dataset)\n",
    "indexed = indexedModel.transform(dataset)"
   ]
  },
  {
   "cell_type": "code",
   "execution_count": 7,
   "metadata": {},
   "outputs": [],
   "source": [
    "encoder = OneHotEncoder(inputCol=\"indexed_country\",outputCol=\"country_coded\")\n",
    "encoded = encoder.transform(indexed)"
   ]
  },
  {
   "cell_type": "code",
   "execution_count": 8,
   "metadata": {},
   "outputs": [],
   "source": [
    "assembler = (VectorAssembler()\n",
    "       .setInputCols([\"year\",\"country_coded\"])\n",
    "       .setOutputCol(\"features\"))"
   ]
  },
  {
   "cell_type": "code",
   "execution_count": 9,
   "metadata": {},
   "outputs": [],
   "source": [
    "data_feat = assembler.transform(encoded)"
   ]
  },
  {
   "cell_type": "code",
   "execution_count": 10,
   "metadata": {},
   "outputs": [],
   "source": [
    "data_final = data_feat.withColumn(\"year\",fn.col(\"year\")+10).where(\"year > 2013\").select(\"country\",\"year\")"
   ]
  },
  {
   "cell_type": "code",
   "execution_count": 11,
   "metadata": {},
   "outputs": [],
   "source": [
    "for col in cols:\n",
    "    linearModel = (LinearRegression()\n",
    "              .setLabelCol(col) \n",
    "              .setFeaturesCol(\"features\") \n",
    "              .setPredictionCol(col+\"_pred\")) \n",
    "    \n",
    "    data_feat1 = data_feat.select(\"country\",\"year\",\"features\",col)\n",
    "    \n",
    "    data_feat2 = data_feat1.withColumn(col,fn.col(col).cast(\"Double\"))\n",
    "    \n",
    "    model = linearModel.fit(data_feat2)\n",
    "\n",
    "    data_pred = data_feat2.withColumn(\"year\",fn.col(\"year\")+10).where(\"year > 2013\")\n",
    "\n",
    "    data_pred_1 = data_pred.select(\"year\",\"country\",\"features\")\n",
    "\n",
    "    stringIndexer1 = StringIndexer(inputCol=\"country\", outputCol=\"indexed_country\")\n",
    "    indexedModel1 = stringIndexer1.fit(data_pred_1)\n",
    "    indexed1 = indexedModel1.transform(data_pred_1)\n",
    "\n",
    "    encoder1 = OneHotEncoder(inputCol=\"indexed_country\",outputCol=\"country_coded\")\n",
    "    encoded1 = encoder1.transform(indexed1)\n",
    "\n",
    "    assembler1 = (VectorAssembler()\n",
    "           .setInputCols([\"year\",\"country_coded\"])\n",
    "           .setOutputCol(\"features\"))\n",
    "\n",
    "    data_feat1 = assembler1.transform(encoded1.select(\"year\",\"country_coded\"))\n",
    "\n",
    "    new_data = model.transform(data_pred_1)\n",
    "    \n",
    "    data_final = data_final.join(new_data.drop(\"features\"),[\"country\",\"year\"])"
   ]
  },
  {
   "cell_type": "code",
   "execution_count": 12,
   "metadata": {},
   "outputs": [],
   "source": [
    "#Writing dataset\n",
    "data_final.write.mode(\"overwrite\").jdbc(\"jdbc:mysql://localhost:3306\",\"work.future_data\",\n",
    "            properties={\"user\":\"hduser\",\"password\":\"Password@1234\"})"
   ]
  }
 ],
 "metadata": {
  "kernelspec": {
   "display_name": "Python 3",
   "language": "python",
   "name": "python3"
  },
  "language_info": {
   "codemirror_mode": {
    "name": "ipython",
    "version": 3
   },
   "file_extension": ".py",
   "mimetype": "text/x-python",
   "name": "python",
   "nbconvert_exporter": "python",
   "pygments_lexer": "ipython3",
   "version": "3.7.3"
  }
 },
 "nbformat": 4,
 "nbformat_minor": 2
}

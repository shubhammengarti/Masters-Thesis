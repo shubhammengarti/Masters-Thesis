{
 "cells": [
  {
   "cell_type": "code",
   "execution_count": 1,
   "metadata": {},
   "outputs": [],
   "source": [
    "from pyspark.sql.session import SparkSession \n",
    "from pyspark.ml import Pipeline \n",
    "from pyspark.ml.regression import LinearRegression \n",
    "from pyspark.ml.feature import VectorAssembler\n",
    "from pyspark.ml.evaluation import RegressionEvaluator\n",
    "from pyspark.ml.tuning import ParamGridBuilder, CrossValidator, CrossValidatorModel\n",
    "import pyspark.sql.functions as fn\n",
    "from pyspark.ml.feature import Imputer\n",
    "import config as c"
   ]
  },
  {
   "cell_type": "code",
   "execution_count": 2,
   "metadata": {},
   "outputs": [],
   "source": [
    "#Reading dataset\n",
    "data = spark.read.csv(c.input+\"/dataset\", header=True, inferSchema=True)"
   ]
  },
  {
   "cell_type": "code",
   "execution_count": 3,
   "metadata": {},
   "outputs": [],
   "source": [
    "data = data.drop(\"source_bunkers\")"
   ]
  },
  {
   "cell_type": "code",
   "execution_count": 4,
   "metadata": {},
   "outputs": [],
   "source": [
    "#Rounding all columns\n",
    "for col in data.drop(\"country\").columns:\n",
    "    data = data.withColumn(col,fn.round(col,1))"
   ]
  },
  {
   "cell_type": "code",
   "execution_count": 5,
   "metadata": {},
   "outputs": [],
   "source": [
    "#Getting feature columns\n",
    "nonFeatureCols = ['country','temperature','year']\n",
    "featureCols = [item for item in data.columns if item not in nonFeatureCols]"
   ]
  },
  {
   "cell_type": "code",
   "execution_count": 6,
   "metadata": {},
   "outputs": [],
   "source": [
    "#Imputing nulls\n",
    "imputer = Imputer(\n",
    "            inputCols = featureCols,\n",
    "            outputCols = featureCols)"
   ]
  },
  {
   "cell_type": "code",
   "execution_count": 7,
   "metadata": {},
   "outputs": [],
   "source": [
    "data_imputed = imputer.fit(data).transform(data)"
   ]
  },
  {
   "cell_type": "code",
   "execution_count": 8,
   "metadata": {},
   "outputs": [
    {
     "name": "stdout",
     "output_type": "stream",
     "text": [
      "+--------------------+----+-----------+--------------------------+-----------------------+--------------------------+----------------+-------------+-------------+---------------+--------------+----------------+------------------+---------------+-------------+--------------+\n",
      "|             country|year|temperature|annual_co2_emission_tonnes|annual_co2_emission_gdp|annual_co2_emission_capita|annual_co2_share|source_others| source_waste|source_industry|source_res_com|source_transport|source_agriculture|source_forestry|  source_land| source_energy|\n",
      "+--------------------+----+-----------+--------------------------+-----------------------+--------------------------+----------------+-------------+-------------+---------------+--------------+----------------+------------------+---------------+-------------+--------------+\n",
      "|             Algeria|2002|       24.3|              8.94067212E7|                    0.3|                       2.8|             0.4|     352842.1|    4845611.2|      6755974.0|  1.48942577E7|          1.34E7|         7775194.1|       513333.3|    1261107.4|  8.37157999E7|\n",
      "|             Algeria|2013|       25.1|             1.324346303E8|                    0.3|                       3.5|             0.4|     318124.5|    4627929.0|      6848293.7|  1.50037152E7|    1.58643823E7|       1.0864806E7|      -440000.0|     866026.3|  8.50985325E7|\n",
      "|              Angola|2011|       22.0|              3.01421445E7|                    0.2|                       1.2|             0.1|     543808.9|    1722091.7|       349117.1|     1685382.8|       2108783.7|      3.12690464E7|   3.44666667E7|1.075215992E8|   2.0391997E7|\n",
      "|             Belarus|2013|        8.3|              6.44236975E7|                    0.4|                       6.8|             0.2|     300358.8|    4714583.8|      5844025.8|  1.14854055E7|       9247239.3|      2.03621235E7|       -2.552E7| 2.53498585E7|  4.21425678E7|\n",
      "|              Bhutan|2001|       12.4|                  369013.2|                    0.2|                       0.6|             0.0|      16259.8|     182391.5|       154385.5|      462429.7|        104682.5|          505364.9|     -4400000.0|      12643.7|      116349.8|\n",
      "|Central African R...|2003|       26.0|                  234496.0|                    0.1|                       0.1|             0.0|    2820249.0|     547076.0|       176763.2|      342103.8|        120993.9|      2.23917029E7|   1.39333333E7|    7883575.2|      162945.9|\n",
      "|                Chad|1995|       27.5|                  109920.0|                    0.0|                       0.0|             0.0|     514094.2|     721904.1|        29816.9|      542646.0|         45244.8|      1.54366385E7|      8066666.7|    9160963.8|      556540.8|\n",
      "|               China|1992|        6.9|             2.657112406E9|                    1.2|                       2.2|            12.0| 4.74939726E7|1.641247706E8|  3.423366409E8| 5.781382556E8|   1.673445778E8|     5.585076815E8|      -3.2362E8|    2650254.8|2.1883424935E9|\n",
      "|            Colombia|2000|       25.0|              5.62157156E7|                    0.2|                       1.4|             0.2|     689500.8|    6438476.5|      6433363.6|     7193292.3|    1.85751117E7|      5.29449148E7|  1.449800929E8|1.499331117E8|  4.13616131E7|\n",
      "|             Comoros|2000|       26.0|                  102592.0|                    0.1|                       0.2|             0.0|        728.0|      81909.7|         5243.3|       36340.4|         40938.8|          195281.0|        55000.0|      53931.6|       70807.2|\n",
      "|      Czech Republic|2002|        9.2|             1.235980295E8|                    0.5|                      12.1|             0.5|     520753.2|    3285132.0|      6987428.8|  1.64971629E7|    1.46839339E7|         5999405.4|  -1.24666667E7|     190417.5| 1.025380013E8|\n",
      "|               Egypt|1998|       23.7|             1.214652588E8|                    0.3|                       1.8|             0.5|     724482.6|    8340616.3|    1.8811766E7|   1.2988867E7|    2.62083624E7|       2.3872303E7|      -547433.3|        190.5|  7.56947323E7|\n",
      "|         El Salvador|2009|       25.8|                 6312649.3|                    0.2|                       1.0|             0.0|     145421.3|    1087176.2|       624941.8|      811815.4|       2950000.0|         3113145.0|       833703.1|     773957.6|     3053132.1|\n",
      "|                Fiji|2004|       25.5|                 1339983.4|                    0.2|                       1.6|             0.0|       8163.2|     137193.3|        65786.0|       63867.8|        409838.6|          919698.9|     -2174883.5|     922429.6|      205617.0|\n",
      "|              France|1997|       14.1|             4.094498784E8|                    0.2|                       7.0|             1.7|    2094619.1|  1.8958225E7|   6.43470492E7| 1.052147553E8|   1.265195868E8|      7.81700118E7|        -3.08E7|    6981135.7|  1.61334776E8|\n",
      "|              Greece|1998|       15.5|              9.86247713E7|                    0.4|                       8.9|             0.4|     606717.0|    2802918.3|    1.0249033E7|   1.1298015E7|     1.9787549E7|         8650980.0|     -2200000.0|    1772643.5|  5.58662613E7|\n",
      "|              Guinea|2007|       26.3|                 1967568.0|                    0.1|                       0.2|             0.0|    1578686.7|    1342012.9|       184787.9|     1329843.3|        405011.3|         9424808.3|   1.24666667E7| 1.51383355E7|     1146865.4|\n",
      "|              Guyana|1995|       26.9|                 1461936.0|                    0.5|                       1.9|             0.0|      51880.2|     120983.0|         2287.5|      377812.5|        130149.6|         1709208.5|      4033333.3| 1.02757524E7|      487766.7|\n",
      "|               Haiti|2011|       26.9|                 2184294.0|                    0.1|                       0.2|             0.0|      42209.9|    1225155.9|       236285.2|      528491.3|        746577.2|         3917925.2|       137866.7|     307607.4|     1023855.5|\n",
      "|            Honduras|1992|       25.5|                 3030228.9|                    0.2|                       0.6|             0.0|     188198.0|     590224.3|       198486.4|      788695.3|       1147067.8|         4708416.4|   4.03333333E7| 4.09892511E7|      977349.3|\n",
      "+--------------------+----+-----------+--------------------------+-----------------------+--------------------------+----------------+-------------+-------------+---------------+--------------+----------------+------------------+---------------+-------------+--------------+\n",
      "only showing top 20 rows\n",
      "\n"
     ]
    }
   ],
   "source": [
    "data_imputed.show()"
   ]
  },
  {
   "cell_type": "code",
   "execution_count": 9,
   "metadata": {},
   "outputs": [],
   "source": [
    "#Getting assembler to generate feature column\n",
    "assembler = (VectorAssembler()\n",
    "           .setInputCols(featureCols)\n",
    "           .setOutputCol(\"features\"))"
   ]
  },
  {
   "cell_type": "code",
   "execution_count": 10,
   "metadata": {},
   "outputs": [],
   "source": [
    "data_feat = assembler.transform(data_imputed)"
   ]
  },
  {
   "cell_type": "code",
   "execution_count": 11,
   "metadata": {},
   "outputs": [],
   "source": [
    "#Inintialing linear regression model\n",
    "linearModel = (LinearRegression()\n",
    "              .setLabelCol(\"temperature\") \n",
    "              .setFeaturesCol(\"features\") \n",
    "              .setPredictionCol(\"prediction\")) "
   ]
  },
  {
   "cell_type": "code",
   "execution_count": 12,
   "metadata": {},
   "outputs": [],
   "source": [
    "#Generating a pipelined model\n",
    "# pipelineModel = Pipeline(stages=[assembler,linearModel])"
   ]
  },
  {
   "cell_type": "code",
   "execution_count": 13,
   "metadata": {},
   "outputs": [],
   "source": [
    "#Making a parameter Grid for Hyper Parameter tuning\n",
    "paramGrid = (ParamGridBuilder()\n",
    "            .addGrid(linearModel.maxIter, [5,10,100,500,1000])\n",
    "            .addGrid(linearModel.regParam, [0.01,0.1,1.0,10.0])\n",
    "            .addGrid(linearModel.elasticNetParam,[0.1,0.5,1.0])\n",
    "            .build())"
   ]
  },
  {
   "cell_type": "code",
   "execution_count": 14,
   "metadata": {},
   "outputs": [],
   "source": [
    "#Initialization of parameterized model\n",
    "crossValidator = (CrossValidator() #building our model\n",
    "                 .setEstimator(linearModel) #Model we will be using\n",
    "                 .setEstimatorParamMaps(paramGrid) #Hyper parameters specified\n",
    "                 .setEvaluator(RegressionEvaluator().setLabelCol(\"temperature\"))) #prediction"
   ]
  },
  {
   "cell_type": "code",
   "execution_count": 15,
   "metadata": {},
   "outputs": [],
   "source": [
    "#Splitting training and test dataset\n",
    "training, test = data_feat.drop('country','year').randomSplit([0.8,0.2])"
   ]
  },
  {
   "cell_type": "code",
   "execution_count": 16,
   "metadata": {},
   "outputs": [],
   "source": [
    "model = crossValidator.fit(training) #Running the creation of model"
   ]
  },
  {
   "cell_type": "code",
   "execution_count": 17,
   "metadata": {},
   "outputs": [],
   "source": [
    "predictions = model.transform(test) #Get the predictions"
   ]
  },
  {
   "cell_type": "code",
   "execution_count": 18,
   "metadata": {},
   "outputs": [],
   "source": [
    "rmse = (RegressionEvaluator()\n",
    "                 .setPredictionCol(\"prediction\") #prediction column\n",
    "                 .setLabelCol(\"temperature\") #column which we wanted to predict\n",
    "                 .setMetricName(\"rmse\")) #Root mean square error"
   ]
  },
  {
   "cell_type": "code",
   "execution_count": 19,
   "metadata": {},
   "outputs": [],
   "source": [
    "rmse_value = rmse.evaluate(predictions)"
   ]
  },
  {
   "cell_type": "code",
   "execution_count": 20,
   "metadata": {},
   "outputs": [],
   "source": [
    "r2 = (RegressionEvaluator()\n",
    "                 .setPredictionCol(\"prediction\")\n",
    "                 .setLabelCol(\"temperature\")\n",
    "                 .setMetricName(\"r2\"))"
   ]
  },
  {
   "cell_type": "code",
   "execution_count": 21,
   "metadata": {},
   "outputs": [],
   "source": [
    "r2_value = r2.evaluate(predictions)"
   ]
  },
  {
   "cell_type": "code",
   "execution_count": 22,
   "metadata": {},
   "outputs": [
    {
     "name": "stdout",
     "output_type": "stream",
     "text": [
      "Root mean square error value :  7.5889764052314375\n",
      "R square value :  0.21688153517745956\n"
     ]
    }
   ],
   "source": [
    "print(\"Root mean square error value : \",rmse_value)\n",
    "print(\"R square value : \",r2_value)\n",
    "\n",
    "# Root mean square error value :  7.805393534253261\n",
    "# R square value :  0.18991747249989088"
   ]
  },
  {
   "cell_type": "code",
   "execution_count": 23,
   "metadata": {},
   "outputs": [],
   "source": [
    "model.write().overwrite().save(c.output+\"/model\")"
   ]
  }
 ],
 "metadata": {
  "kernelspec": {
   "display_name": "Python 3",
   "language": "python",
   "name": "python3"
  },
  "language_info": {
   "codemirror_mode": {
    "name": "ipython",
    "version": 3
   },
   "file_extension": ".py",
   "mimetype": "text/x-python",
   "name": "python",
   "nbconvert_exporter": "python",
   "pygments_lexer": "ipython3",
   "version": "3.7.3"
  }
 },
 "nbformat": 4,
 "nbformat_minor": 2
}
